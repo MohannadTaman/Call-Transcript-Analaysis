{
 "metadata": {
  "kernelspec": {
   "display_name": "Streamlit Notebook",
   "name": "streamlit"
  },
  "lastEditStatus": {
   "notebookId": "2tyz57lhp54f7x33b7xm",
   "authorId": "6518383364742",
   "authorName": "MOHANANDWAEL",
   "authorEmail": "m.w.azab@student.aast.edu",
   "sessionId": "3cdfb24d-55b9-4d2f-8f42-6d918fae73ea",
   "lastEditTime": 1739885045199
  }
 },
 "nbformat_minor": 5,
 "nbformat": 4,
 "cells": [
  {
   "cell_type": "code",
   "id": "3775908f-ca36-4846-8f38-5adca39217f2",
   "metadata": {
    "language": "python",
    "name": "cell1",
    "collapsed": false,
    "resultHeight": 0
   },
   "source": "# Import python packages\nimport streamlit as st\nimport pandas as pd\n\n# We can also use Snowpark for our analyses!\nfrom snowflake.snowpark.context import get_active_session\nsession = get_active_session()",
   "execution_count": null,
   "outputs": []
  },
  {
   "cell_type": "code",
   "id": "8d50cbf4-0c8d-4950-86cb-114990437ac9",
   "metadata": {
    "language": "sql",
    "name": "cell2",
    "collapsed": false,
    "resultHeight": 112,
    "codeCollapsed": false
   },
   "source": "USE ROLE ACCOUNTADMIN;\n\nCREATE DATABASE IF NOT EXISTS ski_gear_support_db;\nCREATE SCHEMA IF NOT EXISTS ski_gear_support_schema;\n\nUSE ski_gear_support_db.ski_gear_support_schema;",
   "execution_count": null,
   "outputs": []
  },
  {
   "cell_type": "code",
   "id": "c695373e-ac74-4b62-a1f1-08206cbd5c81",
   "metadata": {
    "language": "sql",
    "name": "cell3",
    "collapsed": false,
    "resultHeight": 112,
    "codeCollapsed": false
   },
   "source": "CREATE or REPLACE file format csvformat\n  SKIP_HEADER = 1\n  FIELD_OPTIONALLY_ENCLOSED_BY = '\"'\n  type = 'CSV';\n\nCREATE or REPLACE stage call_transcripts_data_stage\n  file_format = csvformat\n  url = 's3://sfquickstarts/misc/call_transcripts/';\n\nCREATE or REPLACE table CALL_TRANSCRIPTS ( \n  date_created date,\n  language varchar(60),\n  country varchar(60),\n  product varchar(60),\n  category varchar(60),\n  damage_type varchar(90),\n  transcript varchar\n);\n\nCOPY into CALL_TRANSCRIPTS\n  from @call_transcripts_data_stage;",
   "execution_count": null,
   "outputs": []
  },
  {
   "cell_type": "code",
   "id": "1fccd9b5-c264-49d5-85a7-f86fa4ad8160",
   "metadata": {
    "language": "sql",
    "name": "cell4",
    "codeCollapsed": false
   },
   "outputs": [],
   "source": "SELECT transcript from CALL_TRANSCRIPTS",
   "execution_count": null
  },
  {
   "cell_type": "code",
   "id": "1490ab30-46af-4fff-9ec9-788276d40013",
   "metadata": {
    "language": "python",
    "name": "cell5",
    "codeCollapsed": false
   },
   "outputs": [],
   "source": "transcripts = session.sql(\"SELECT transcript from CALL_TRANSCRIPTS\").collect()",
   "execution_count": null
  },
  {
   "cell_type": "code",
   "id": "dec6b094-e005-49b9-b8c0-221f63a7746e",
   "metadata": {
    "language": "python",
    "name": "cell6",
    "codeCollapsed": false
   },
   "outputs": [],
   "source": "transcripts",
   "execution_count": null
  },
  {
   "cell_type": "code",
   "id": "1fe31ebe-330c-4c76-a97c-868fb20a0c12",
   "metadata": {
    "language": "python",
    "name": "cell7",
    "codeCollapsed": false
   },
   "outputs": [],
   "source": "for transcript in transcripts:\n    print(transcript['TRANSCRIPT'] + (11 *\" \\n\"))",
   "execution_count": null
  },
  {
   "cell_type": "code",
   "id": "04249ca2-b1b1-413b-9155-cb597d7193a2",
   "metadata": {
    "language": "python",
    "name": "cell8"
   },
   "outputs": [],
   "source": "print(transcripts[3]['TRANSCRIPT'])",
   "execution_count": null
  },
  {
   "cell_type": "code",
   "id": "022d1f2a-0825-474f-9119-b68c7d849fd2",
   "metadata": {
    "language": "sql",
    "name": "cell9"
   },
   "outputs": [],
   "source": "ALTER ACCOUNT SET CORTEX_ENABLED_CROSS_REGION ='ANY_REGION';",
   "execution_count": null
  },
  {
   "cell_type": "code",
   "id": "0436c75c-051c-47bd-a578-5aafc9ca8526",
   "metadata": {
    "language": "python",
    "name": "cell10",
    "collapsed": false,
    "resultHeight": 0,
    "codeCollapsed": false
   },
   "outputs": [],
   "source": "from snowflake.cortex import Complete\nprompt = \"\"\"\n    Summarize this transcript in less than 200 words. \nPut the product name, defect and summary in JSON format. \n\"\"\"",
   "execution_count": null
  },
  {
   "cell_type": "code",
   "id": "9f68f29d-ebb8-42d6-ab9c-e949d95608d6",
   "metadata": {
    "language": "python",
    "name": "cell11"
   },
   "outputs": [],
   "source": "summary = []",
   "execution_count": null
  },
  {
   "cell_type": "code",
   "id": "5b178388-02c4-457b-82d0-e732a792af31",
   "metadata": {
    "language": "python",
    "name": "cell12",
    "collapsed": false,
    "resultHeight": 945,
    "codeCollapsed": false
   },
   "outputs": [],
   "source": "for transcript in transcripts:\n    summary.append(Complete(\"mistral-7b\", prompt + transcript['TRANSCRIPT']))",
   "execution_count": null
  },
  {
   "cell_type": "code",
   "id": "13faa770-ae45-44fb-9786-2fa2163a4239",
   "metadata": {
    "language": "python",
    "name": "cell13",
    "collapsed": false
   },
   "outputs": [],
   "source": "for i, summary_item in enumerate(summary):\n    print(f\"Summary {i+1}:\")\n    print(summary_item)  ",
   "execution_count": null
  },
  {
   "cell_type": "code",
   "id": "98d5c6c1-6510-4af7-9c62-97a9681d6e8f",
   "metadata": {
    "language": "python",
    "name": "cell14",
    "codeCollapsed": false
   },
   "outputs": [],
   "source": "",
   "execution_count": null
  }
 ]
}